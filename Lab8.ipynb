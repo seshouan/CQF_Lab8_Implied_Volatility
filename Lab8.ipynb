{
 "cells": [
  {
   "cell_type": "code",
   "execution_count": null,
   "id": "d471bb2a-3b84-4b47-83bd-f178f3c380fa",
   "metadata": {},
   "outputs": [],
   "source": [
    "# Import Libraries\n",
    "from numpy import *\n",
    "from datetime import datetime\n",
    "from tabulate import tabulate"
   ]
  },
  {
   "cell_type": "code",
   "execution_count": null,
   "id": "d5e3ece0-0472-4b51-9a12-f609c6477bf6",
   "metadata": {},
   "outputs": [],
   "source": [
    "def newton_iv(className, spot, strike, rate, dte, callprice=None, putprice=None):\n",
    "    x0 = 1            # initial guess\n",
    "    h = 0.001         # step size\n",
    "    tolerance = 1e-7  # 7-digit accuracy is desired\n",
    "    epsilon = 1e-14   # do not divide by a number smaller than this, some kind of error / floor\n",
    "    maxiter = 200     # maximum number of iterations to execute\n",
    "\n",
    "    # function whose root we are trying to find\n",
    "    # f(x) = Black Scholes Call price - Market Price - defining the f(x) here\n",
    "    if callprice:\n",
    "        f = lambda x: eval(className)(spot, strike, rate, dte, x).callPrice - callprice\n",
    "    if putprice:\n",
    "        f = lambda x: eval(className)(spot, strike, rate, dte, x).putPrice - putprice\n",
    "\n",
    "    for i in range(maxiter):\n",
    "        y = f(x0)                             # starting with initial guess\n",
    "        yprime = (f(x0+h) - f(x0-h))/(2*h)    # central difference, the derivative of the function\n",
    "\n",
    "        if abs(yprime)<epsilon:               # stop if the denominator is too small\n",
    "            break\n",
    "        x1 = x0 - y/yprime                    # perform Newton's computation\n",
    "\n",
    "        if (abs(x1-x0) <= tolerance*abs(x1)): # stop when the result is within the desired tolerance\n",
    "            break\n",
    "        x0=x1                                 # update x0 to start the process\n",
    "        \n",
    "    return x1                                 # x1 is a solution within tolerance and maximum number of iterations"
   ]
  },
  {
   "cell_type": "code",
   "execution_count": null,
   "id": "a6a28d03-c1fa-4eb4-bb5d-9c42f8220ea8",
   "metadata": {},
   "outputs": [],
   "source": [
    "# newton iv\n",
    "newton_iv('BS',100,100,0.02,1,callprice=8)"
   ]
  },
  {
   "cell_type": "code",
   "execution_count": null,
   "id": "0ae3faa2-561d-4732-b02d-759deac6eda3",
   "metadata": {},
   "outputs": [],
   "source": [
    "# Bisection Method\n",
    "def bisection_iv(className, spot, strike, rate, dte, callprice=None,␣ ,→putprice=None, high=500.0, low=0.0):\n",
    "\n",
    "    # this is market price\n",
    "    if callprice:\n",
    "        price = callprice\n",
    "    if putprice and not callprice:\n",
    "        price = putprice\n",
    "    \n",
    "    tolerance = 1e-7\n",
    "    \n",
    "    for i in range(1000):\n",
    "        mid = (high + low) / 2           # c= (a+b)/2\n",
    "        if mid < tolerance:\n",
    "            mid = tolerance\n",
    "\n",
    "        if callprice:\n",
    "            estimate = eval(className)(spot, strike, rate, dte, mid).callPrice #Blackscholes price \n",
    "        if putprice:\n",
    "            estimate = eval(className)(spot, strike, rate, dte, mid).putPrice\n",
    "        \n",
    "        if round(estimate,6) == price:\n",
    "            break\n",
    "        elif estimate > price:\n",
    "            high = mid                   # replace c with b | b = c\n",
    "        elif estimate < price:\n",
    "            low = mid                    # replace c with a | a = c\n",
    "    \n",
    "    return mid"
   ]
  },
  {
   "cell_type": "code",
   "execution_count": null,
   "id": "4016e294-5443-4ad2-bafd-667cbd284cdc",
   "metadata": {},
   "outputs": [],
   "source": [
    "# bisection iv\n",
    "bisection_iv('BS',100,100,0.02,1,callprice=8)"
   ]
  },
  {
   "cell_type": "code",
   "execution_count": null,
   "id": "562aadbf-a81d-4dae-82f6-6a14c0c82b2c",
   "metadata": {},
   "outputs": [],
   "source": [
    "# Import updated blackscholes object\n",
    "from blackscholes import BS"
   ]
  },
  {
   "cell_type": "code",
   "execution_count": null,
   "id": "b46ac0c4-abfe-4d02-9386-b7f9fe92b0f7",
   "metadata": {},
   "outputs": [],
   "source": [
    "# Initialize option\n",
    "option = BS(100,100,0.05,1,0.2, callprice=8)\n",
    "\n",
    "header = ['Option Price', 'Delta', 'Gamma', 'Theta', 'Vega', 'Rho', 'IV']\n",
    "table = [[option.callPrice, option.callDelta, option.gamma, option.callTheta, option.vega, option.callRho, option.impvol]]\n",
    "\n",
    "print(tabulate(table,header))"
   ]
  },
  {
   "cell_type": "code",
   "execution_count": null,
   "id": "293cd7b8-5468-41e9-b754-256dc3a69ff1",
   "metadata": {},
   "outputs": [],
   "source": []
  }
 ],
 "metadata": {
  "kernelspec": {
   "display_name": "Python 3 (ipykernel)",
   "language": "python",
   "name": "python3"
  },
  "language_info": {
   "codemirror_mode": {
    "name": "ipython",
    "version": 3
   },
   "file_extension": ".py",
   "mimetype": "text/x-python",
   "name": "python",
   "nbconvert_exporter": "python",
   "pygments_lexer": "ipython3",
   "version": "3.11.3"
  }
 },
 "nbformat": 4,
 "nbformat_minor": 5
}
